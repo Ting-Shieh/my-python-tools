{
 "cells": [
  {
   "cell_type": "code",
   "execution_count": 1,
   "metadata": {},
   "outputs": [],
   "source": [
    "from PIL import Image , ImageDraw, ImageSequence\n",
    "import glob"
   ]
  },
  {
   "cell_type": "code",
   "execution_count": 2,
   "metadata": {},
   "outputs": [],
   "source": [
    "filedir= './bg-q10-gif2/*.png'\n",
    "gifname = 'fairscheduler-mutilqueue.gif'"
   ]
  },
  {
   "cell_type": "code",
   "execution_count": 3,
   "metadata": {},
   "outputs": [],
   "source": [
    "frames = []\n",
    "imgs = glob.glob(filedir)"
   ]
  },
  {
   "cell_type": "code",
   "execution_count": 4,
   "metadata": {},
   "outputs": [],
   "source": [
    "for img in imgs:\n",
    "    new_frame = Image.open(img)\n",
    "    frames.append(new_frame)"
   ]
  },
  {
   "cell_type": "code",
   "execution_count": 5,
   "metadata": {},
   "outputs": [],
   "source": [
    "frames[0].save(gifname,\n",
    "              foramt='GIF',\n",
    "              append_images=frames[1:],\n",
    "              save_all=True,\n",
    "              duration=3000,\n",
    "              loop=0)"
   ]
  },
  {
   "cell_type": "code",
   "execution_count": null,
   "metadata": {},
   "outputs": [],
   "source": []
  },
  {
   "cell_type": "code",
   "execution_count": null,
   "metadata": {},
   "outputs": [],
   "source": [
    "# Output (max) size\n",
    "size = 1200, 1000\n",
    "\n",
    "# Open source\n",
    "im = Image.open(\"./hdfs.gif\")\n",
    "\n",
    "# Get sequence iterator\n",
    "frames = ImageSequence.Iterator(im)\n",
    "\n",
    "# Wrap on-the-fly thumbnail generator\n",
    "def thumbnails(frames):\n",
    "    for frame in frames:\n",
    "        thumbnail = frame.copy()\n",
    "        thumbnail.thumbnail(size, Image.ANTIALIAS)\n",
    "        yield thumbnail\n",
    "\n",
    "frames = thumbnails(frames)\n",
    "\n",
    "# Save output\n",
    "om = next(frames) # Handle first frame separately\n",
    "om.info = im.info # Copy sequence info\n",
    "om.save(\"hdfs2.gif\", save_all=True, append_images=list(frames))"
   ]
  },
  {
   "cell_type": "code",
   "execution_count": null,
   "metadata": {},
   "outputs": [],
   "source": []
  }
 ],
 "metadata": {
  "kernelspec": {
   "display_name": "Python 3",
   "language": "python",
   "name": "python3"
  },
  "language_info": {
   "codemirror_mode": {
    "name": "ipython",
    "version": 3
   },
   "file_extension": ".py",
   "mimetype": "text/x-python",
   "name": "python",
   "nbconvert_exporter": "python",
   "pygments_lexer": "ipython3",
   "version": "3.7.6"
  }
 },
 "nbformat": 4,
 "nbformat_minor": 4
}
