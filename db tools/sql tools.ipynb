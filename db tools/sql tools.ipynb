{
 "cells": [
  {
   "cell_type": "code",
   "execution_count": 1,
   "metadata": {},
   "outputs": [],
   "source": [
    "class SqlHelper:\n",
    "    def __init__(self, host=\"\", user=\"\", pwd=\"\",\n",
    "                 database=\"\",develop=True):\n",
    "        self.host =  host if develop else \"127.0.0.1\"\n",
    "        self.user = user\n",
    "        self.passwd = pwd\n",
    "        self.port = 3306\n",
    "        self.database = database\n",
    "\n",
    "    def get_mydb(self):\n",
    "        return self.__mydb\n",
    "    def get_mycursor(self):\n",
    "        self.__mydb = mysql.connector.connect(host=self.host, user=self.user, passwd=self.passwd,\n",
    "                                              database=self.database)\n",
    "        return self.__mydb.cursor()\n",
    "\n",
    "    def __use_sqlalchemy_connect(self):\n",
    "        \"\"\"\n",
    "        用 sqlalchemy 建構數據庫連接engine\n",
    "        \"\"\"\n",
    "        connect_info = 'mysql+pymysql://{}:{}@{}:{}/{}?charset=utf8'.format(self.user, self.passwd, self.host,\n",
    "                                                                            self.port, self.database)\n",
    "        return create_engine(connect_info)\n",
    "\n",
    "    def mysql2df(self,sql):\n",
    "        engine = self.__use_sqlalchemy_connect()\n",
    "        return pd.read_sql_query(sql, engine)\n",
    "\n",
    "    def get_timestamp(self):\n",
    "        \"\"\"\n",
    "        生成時間戳\n",
    "        \"\"\"\n",
    "        # 獲得當前時間\n",
    "        now = datetime.now()  # 時間數組格式\n",
    "        return now.strftime(\"%Y%m%d%H%M%S\")\n",
    "\n",
    "    def getnowtime(self):\n",
    "        now = time.time()\n",
    "        nowTime = datetime.fromtimestamp(now).strftime('%Y-%m-%d %H:%M:%S')\n",
    "        return nowTime"
   ]
  },
  {
   "cell_type": "code",
   "execution_count": 2,
   "metadata": {},
   "outputs": [],
   "source": [
    "sqlmodel = SqlHelper()\n"
   ]
  },
  {
   "cell_type": "code",
   "execution_count": null,
   "metadata": {},
   "outputs": [],
   "source": [
    "sql_v2 = 'select column1, column2, column3 from databse '"
   ]
  },
  {
   "cell_type": "code",
   "execution_count": null,
   "metadata": {},
   "outputs": [],
   "source": [
    "df = sqlmodel.mysql2df(sql_v2)"
   ]
  }
 ],
 "metadata": {
  "kernelspec": {
   "display_name": "Python 3",
   "language": "python",
   "name": "python3"
  },
  "language_info": {
   "codemirror_mode": {
    "name": "ipython",
    "version": 3
   },
   "file_extension": ".py",
   "mimetype": "text/x-python",
   "name": "python",
   "nbconvert_exporter": "python",
   "pygments_lexer": "ipython3",
   "version": "3.7.6"
  }
 },
 "nbformat": 4,
 "nbformat_minor": 4
}
