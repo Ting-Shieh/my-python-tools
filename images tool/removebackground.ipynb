{
 "cells": [
  {
   "cell_type": "code",
   "execution_count": 2,
   "metadata": {},
   "outputs": [
    {
     "name": "stdout",
     "output_type": "stream",
     "text": [
      "RGBA\n"
     ]
    }
   ],
   "source": [
    "from PIL import Image\n",
    "\n",
    "image = Image.open('./glass/glass.png')\n",
    "image = image.convert('RGBA')\n",
    "print(image.mode)\n",
    "\n",
    "\n"
   ]
  },
  {
   "cell_type": "code",
   "execution_count": 3,
   "metadata": {},
   "outputs": [
    {
     "name": "stdout",
     "output_type": "stream",
     "text": [
      "RGBA (1280, 720)\n"
     ]
    }
   ],
   "source": [
    "# Transparency\n",
    "newImage = []\n",
    "for item in image.getdata():\n",
    "    if item[:3] == (255, 255, 255):\n",
    "        newImage.append((255, 255, 255, 0))\n",
    "    else:\n",
    "        newImage.append(item)\n",
    "\n",
    "image.putdata(newImage)\n",
    "\n",
    "\n",
    "image.save('glass_remove_back.png')\n",
    "print(image.mode, image.size)"
   ]
  },
  {
   "cell_type": "code",
   "execution_count": null,
   "metadata": {},
   "outputs": [],
   "source": []
  }
 ],
 "metadata": {
  "kernelspec": {
   "display_name": "Python 3",
   "language": "python",
   "name": "python3"
  },
  "language_info": {
   "codemirror_mode": {
    "name": "ipython",
    "version": 3
   },
   "file_extension": ".py",
   "mimetype": "text/x-python",
   "name": "python",
   "nbconvert_exporter": "python",
   "pygments_lexer": "ipython3",
   "version": "3.7.6"
  }
 },
 "nbformat": 4,
 "nbformat_minor": 4
}
